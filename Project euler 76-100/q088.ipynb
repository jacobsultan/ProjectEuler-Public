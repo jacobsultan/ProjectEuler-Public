{
 "cells": [
  {
   "cell_type": "markdown",
   "metadata": {},
   "source": [
    "A natural number, $N$, that can be written as the sum and product of a given set of at least two natural numbers, $\\{a_1, a_2, \\dots, a_k\\}$ is called a product-sum number: $N = a_1 + a_2 + \\cdots + a_k = a_1 \\times a_2 \\times \\cdots \\times a_k$.\n",
    "For example, $6 = 1 + 2 + 3 = 1 \\times 2 \\times 3$.\n",
    "For a given set of size, $k$, we shall call the smallest $N$ with this property a minimal product-sum number. The minimal product-sum numbers for sets of size, $k = 2, 3, 4, 5$, and $6$ are as follows.\n",
    "<ul style=\"list-style-type:none;\">\n",
    "<li>$k=2$: $4 = 2 \\times 2 = 2 + 2$</li>\n",
    "<li>$k=3$: $6 = 1 \\times 2 \\times 3 = 1 + 2 + 3$</li>\n",
    "<li>$k=4$: $8 = 1 \\times 1 \\times 2 \\times 4 = 1 + 1 + 2 + 4$</li>\n",
    "<li>$k=5$: $8 = 1 \\times 1 \\times 2 \\times 2 \\times 2 = 1 + 1 + 2 + 2 + 2$</li><li>$k=6$: $12 = 1 \\times 1 \\times 1 \\times 1 \\times 2 \\times 6 = 1 + 1 + 1 + 1 + 2 + 6$</li></ul>\n",
    "Hence for $2 \\le k \\le 6$, the sum of all the minimal product-sum numbers is $4+6+8+12 = 30$; note that $8$ is only counted once in the sum.\n",
    "In fact, as the complete set of minimal product-sum numbers for $2 \\le k \\le 12$ is $\\{4, 6, 8, 12, 15, 16\\}$, the sum is $61$.\n",
    "What is the sum of all the minimal product-sum numbers for $2 \\le k \\le 12000$?\n"
   ]
  },
  {
   "cell_type": "code",
   "execution_count": 1,
   "metadata": {},
   "outputs": [],
   "source": [
    "import time\n",
    "start_time = time.time()"
   ]
  },
  {
   "cell_type": "code",
   "execution_count": 2,
   "metadata": {},
   "outputs": [
    {
     "name": "stdout",
     "output_type": "stream",
     "text": [
      "Process finished --- 4.348724842071533 seconds ---\n"
     ]
    }
   ],
   "source": [
    "print(\"Process finished --- %s seconds ---\" % (time.time() - start_time))\n"
   ]
  },
  {
   "cell_type": "code",
   "execution_count": null,
   "metadata": {},
   "outputs": [],
   "source": []
  }
 ],
 "metadata": {
  "kernelspec": {
   "display_name": "Python 3",
   "language": "python",
   "name": "python3"
  },
  "language_info": {
   "codemirror_mode": {
    "name": "ipython",
    "version": 3
   },
   "file_extension": ".py",
   "mimetype": "text/x-python",
   "name": "python",
   "nbconvert_exporter": "python",
   "pygments_lexer": "ipython3",
   "version": "3.9.6"
  }
 },
 "nbformat": 4,
 "nbformat_minor": 2
}
