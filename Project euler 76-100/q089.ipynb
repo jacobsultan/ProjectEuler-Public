{
 "cells": [
  {
   "cell_type": "markdown",
   "metadata": {},
   "source": [
    "For a number written in Roman numerals to be considered valid there are basic rules which must be followed. Even though the rules allow some numbers to be expressed in more than one way there is always a \"best\" way of writing a particular number.\n",
    "For example, it would appear that there are at least six ways of writing the number sixteen:\n",
    "<p class=\"margin_left monospace\">IIIIIIIIIIIIIIII<br>\n",
    "VIIIIIIIIIII<br>\n",
    "VVIIIIII<br>\n",
    "XIIIIII<br>\n",
    "VVVI<br>\n",
    "XVI\n",
    "However, according to the rules only <span class=\"monospace\">XIIIIII</span> and <span class=\"monospace\">XVI</span> are valid, and the last example is considered to be the most efficient, as it uses the least number of numerals.\n",
    "The 11K text file, <a href=\"resources/documents/0089_roman.txt\">roman.txt</a> (right click and 'Save Link/Target As...'), contains one thousand numbers written in valid, but not necessarily minimal, Roman numerals; see <a href=\"about=roman_numerals\">About... Roman Numerals</a> for the definitive rules for this problem.\n",
    "Find the number of characters saved by writing each of these in their minimal form.\n",
    "<p class=\"smaller\">Note: You can assume that all the Roman numerals in the file contain no more than four consecutive identical units.\n"
   ]
  },
  {
   "cell_type": "code",
   "execution_count": 1,
   "metadata": {},
   "outputs": [],
   "source": [
    "import time\n",
    "start_time = time.time()"
   ]
  },
  {
   "cell_type": "code",
   "execution_count": 2,
   "metadata": {},
   "outputs": [
    {
     "name": "stdout",
     "output_type": "stream",
     "text": [
      "Process finished --- 4.348724842071533 seconds ---\n"
     ]
    }
   ],
   "source": [
    "print(\"Process finished --- %s seconds ---\" % (time.time() - start_time))\n"
   ]
  },
  {
   "cell_type": "code",
   "execution_count": null,
   "metadata": {},
   "outputs": [],
   "source": []
  }
 ],
 "metadata": {
  "kernelspec": {
   "display_name": "Python 3",
   "language": "python",
   "name": "python3"
  },
  "language_info": {
   "codemirror_mode": {
    "name": "ipython",
    "version": 3
   },
   "file_extension": ".py",
   "mimetype": "text/x-python",
   "name": "python",
   "nbconvert_exporter": "python",
   "pygments_lexer": "ipython3",
   "version": "3.9.6"
  }
 },
 "nbformat": 4,
 "nbformat_minor": 2
}
