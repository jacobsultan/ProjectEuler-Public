{
 "cells": [
  {
   "cell_type": "markdown",
   "metadata": {},
   "source": [
    "By using each of the digits from the set, $\\{1, 2, 3, 4\\}$, exactly once, and making use of the four arithmetic operations ($+, -, \\times, /$) and brackets/parentheses, it is possible to form different positive integer targets.\n",
    "For example,\n",
    "\\begin{align}\n",
    "8 &amp;= (4 \\times (1 + 3)) / 2\\\\\n",
    "14 &amp;= 4 \\times (3 + 1 / 2)\\\\\n",
    "19 &amp;= 4 \\times (2 + 3) - 1\\\\\n",
    "36 &amp;= 3 \\times 4 \\times (2 + 1)\n",
    "\\end{align}\n",
    "Note that concatenations of the digits, like $12 + 34$, are not allowed.\n",
    "Using the set, $\\{1, 2, 3, 4\\}$, it is possible to obtain thirty-one different target numbers of which $36$ is the maximum, and each of the numbers $1$ to $28$ can be obtained before encountering the first non-expressible number.\n",
    "Find the set of four distinct digits, $a \\lt b \\lt c \\lt d$, for which the longest set of consecutive positive integers, $1$ to $n$, can be obtained, giving your answer as a string: <i>abcd</i>.\n"
   ]
  },
  {
   "cell_type": "code",
   "execution_count": 1,
   "metadata": {},
   "outputs": [],
   "source": [
    "import time\n",
    "start_time = time.time()"
   ]
  },
  {
   "cell_type": "code",
   "execution_count": 2,
   "metadata": {},
   "outputs": [
    {
     "name": "stdout",
     "output_type": "stream",
     "text": [
      "Process finished --- 4.348724842071533 seconds ---\n"
     ]
    }
   ],
   "source": [
    "print(\"Process finished --- %s seconds ---\" % (time.time() - start_time))\n"
   ]
  },
  {
   "cell_type": "code",
   "execution_count": null,
   "metadata": {},
   "outputs": [],
   "source": []
  }
 ],
 "metadata": {
  "kernelspec": {
   "display_name": "Python 3",
   "language": "python",
   "name": "python3"
  },
  "language_info": {
   "codemirror_mode": {
    "name": "ipython",
    "version": 3
   },
   "file_extension": ".py",
   "mimetype": "text/x-python",
   "name": "python",
   "nbconvert_exporter": "python",
   "pygments_lexer": "ipython3",
   "version": "3.9.6"
  }
 },
 "nbformat": 4,
 "nbformat_minor": 2
}
