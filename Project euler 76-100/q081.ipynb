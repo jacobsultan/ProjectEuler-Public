{
 "cells": [
  {
   "cell_type": "markdown",
   "metadata": {},
   "source": [
    "In the $5$ by $5$ matrix below, the minimal path sum from the top left to the bottom right, by <b>only moving to the right and down</b>, is indicated in bold red and is equal to $2427$.\n",
    "<div class=\"center\">\n",
    "$$\n",
    "\\begin{pmatrix}\n",
    "\\color{red}{131} &amp; 673 &amp; 234 &amp; 103 &amp; 18\\\\\n",
    "\\color{red}{201} &amp; \\color{red}{96} &amp; \\color{red}{342} &amp; 965 &amp; 150\\\\\n",
    "630 &amp; 803 &amp; \\color{red}{746} &amp; \\color{red}{422} &amp; 111\\\\\n",
    "537 &amp; 699 &amp; 497 &amp; \\color{red}{121} &amp; 956\\\\\n",
    "805 &amp; 732 &amp; 524 &amp; \\color{red}{37} &amp; \\color{red}{331}\n",
    "\\end{pmatrix}\n",
    "$$\n",
    "</div>\n",
    "Find the minimal path sum from the top left to the bottom right by only moving right and down in <a href=\"resources/documents/0081_matrix.txt\">matrix.txt</a> (right click and \"Save Link/Target As...\"), a 31K text file containing an $80$ by $80$ matrix."
   ]
  },
  {
   "cell_type": "code",
   "execution_count": 1,
   "metadata": {},
   "outputs": [],
   "source": [
    "import time\n",
    "start_time = time.time()"
   ]
  },
  {
   "cell_type": "code",
   "execution_count": 2,
   "metadata": {},
   "outputs": [
    {
     "name": "stdout",
     "output_type": "stream",
     "text": [
      "Process finished --- 4.348724842071533 seconds ---\n"
     ]
    }
   ],
   "source": [
    "print(\"Process finished --- %s seconds ---\" % (time.time() - start_time))\n"
   ]
  },
  {
   "cell_type": "code",
   "execution_count": null,
   "metadata": {},
   "outputs": [],
   "source": []
  }
 ],
 "metadata": {
  "kernelspec": {
   "display_name": "Python 3",
   "language": "python",
   "name": "python3"
  },
  "language_info": {
   "codemirror_mode": {
    "name": "ipython",
    "version": 3
   },
   "file_extension": ".py",
   "mimetype": "text/x-python",
   "name": "python",
   "nbconvert_exporter": "python",
   "pygments_lexer": "ipython3",
   "version": "3.9.6"
  }
 },
 "nbformat": 4,
 "nbformat_minor": 2
}
