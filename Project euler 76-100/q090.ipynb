{
 "cells": [
  {
   "cell_type": "markdown",
   "metadata": {},
   "source": [
    "Each of the six faces on a cube has a different digit ($0$ to $9$) written on it; the same is done to a second cube. By placing the two cubes side-by-side in different positions we can form a variety of $2$-digit numbers.\n",
    "\n",
    "For example, the square number $64$ could be formed:\n",
    "\n",
    "<div class=\"center\">\n",
    "<img src=\"resources/images/0090.png?1678992052\" class=\"dark_img\" alt=\"\"><br></div>\n",
    "\n",
    "In fact, by carefully choosing the digits on both cubes it is possible to display all of the square numbers below one-hundred: $01$, $04$, $09$, $16$, $25$, $36$, $49$, $64$, and $81$.\n",
    "\n",
    "For example, one way this can be achieved is by placing $\\{0, 5, 6, 7, 8, 9\\}$ on one cube and $\\{1, 2, 3, 4, 8, 9\\}$ on the other cube.\n",
    "\n",
    "However, for this problem we shall allow the $6$ or $9$ to be turned upside-down so that an arrangement like $\\{0, 5, 6, 7, 8, 9\\}$ and $\\{1, 2, 3, 4, 6, 7\\}$ allows for all nine square numbers to be displayed; otherwise it would be impossible to obtain $09$.\n",
    "\n",
    "In determining a distinct arrangement we are interested in the digits on each cube, not the order.\n",
    "\n",
    "<ul style=\"list-style-type:none;\"><li>$\\{1, 2, 3, 4, 5, 6\\}$ is equivalent to $\\{3, 6, 4, 1, 2, 5\\}$</li>\n",
    "<li>$\\{1, 2, 3, 4, 5, 6\\}$ is distinct from $\\{1, 2, 3, 4, 5, 9\\}$</li></ul>\n",
    "\n",
    "But because we are allowing $6$ and $9$ to be reversed, the two distinct sets in the last example both represent the extended set $\\{1, 2, 3, 4, 5, 6, 9\\}$ for the purpose of forming $2$-digit numbers.\n",
    "\n",
    "How many distinct arrangements of the two cubes allow for all of the square numbers to be displayed?"
   ]
  },
  {
   "cell_type": "code",
   "execution_count": 1,
   "metadata": {},
   "outputs": [],
   "source": [
    "import time\n",
    "start_time = time.time()"
   ]
  },
  {
   "cell_type": "code",
   "execution_count": 2,
   "metadata": {},
   "outputs": [
    {
     "name": "stdout",
     "output_type": "stream",
     "text": [
      "Process finished --- 4.348724842071533 seconds ---\n"
     ]
    }
   ],
   "source": [
    "print(\"Process finished --- %s seconds ---\" % (time.time() - start_time))\n"
   ]
  },
  {
   "cell_type": "code",
   "execution_count": null,
   "metadata": {},
   "outputs": [],
   "source": []
  }
 ],
 "metadata": {
  "kernelspec": {
   "display_name": "Python 3",
   "language": "python",
   "name": "python3"
  },
  "language_info": {
   "codemirror_mode": {
    "name": "ipython",
    "version": 3
   },
   "file_extension": ".py",
   "mimetype": "text/x-python",
   "name": "python",
   "nbconvert_exporter": "python",
   "pygments_lexer": "ipython3",
   "version": "3.9.6"
  }
 },
 "nbformat": 4,
 "nbformat_minor": 2
}
