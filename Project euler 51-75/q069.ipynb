{
 "cells": [
  {
   "cell_type": "markdown",
   "metadata": {},
   "source": [
    "Euler's totient function, $\\phi(n)$ [sometimes called the phi function], is defined as the number of positive integers not exceeding $n$ which are relatively prime to $n$. For example, as $1$, $2$, $4$, $5$, $7$, and $8$, are all less than or equal to nine and relatively prime to nine, $\\phi(9)=6$.\n",
    "<div class=\"center\">\n",
    "<table class=\"grid center\"><tr><td><b>$n$</b></td>\n",
    "<td><b>Relatively Prime</b></td>\n",
    "<td><b>$\\phi(n)$</b></td>\n",
    "<td><b>$n/\\phi(n)$</b></td>\n",
    "</tr><tr><td>2</td>\n",
    "<td>1</td>\n",
    "<td>1</td>\n",
    "<td>2</td>\n",
    "</tr><tr><td>3</td>\n",
    "<td>1,2</td>\n",
    "<td>2</td>\n",
    "<td>1.5</td>\n",
    "</tr><tr><td>4</td>\n",
    "<td>1,3</td>\n",
    "<td>2</td>\n",
    "<td>2</td>\n",
    "</tr><tr><td>5</td>\n",
    "<td>1,2,3,4</td>\n",
    "<td>4</td>\n",
    "<td>1.25</td>\n",
    "</tr><tr><td>6</td>\n",
    "<td>1,5</td>\n",
    "<td>2</td>\n",
    "<td>3</td>\n",
    "</tr><tr><td>7</td>\n",
    "<td>1,2,3,4,5,6</td>\n",
    "<td>6</td>\n",
    "<td>1.1666...</td>\n",
    "</tr><tr><td>8</td>\n",
    "<td>1,3,5,7</td>\n",
    "<td>4</td>\n",
    "<td>2</td>\n",
    "</tr><tr><td>9</td>\n",
    "<td>1,2,4,5,7,8</td>\n",
    "<td>6</td>\n",
    "<td>1.5</td>\n",
    "</tr><tr><td>10</td>\n",
    "<td>1,3,7,9</td>\n",
    "<td>4</td>\n",
    "<td>2.5</td>\n",
    "</tr></table></div>\n",
    "It can be seen that $n = 6$ produces a maximum $n/\\phi(n)$ for $n\\leq 10$.\n",
    "Find the value of $n\\leq 1\\,000\\,000$ for which $n/\\phi(n)$ is a maximum.\n"
   ]
  },
  {
   "cell_type": "code",
   "execution_count": 1,
   "metadata": {},
   "outputs": [],
   "source": [
    "import time\n",
    "start_time = time.time()"
   ]
  },
  {
   "cell_type": "code",
   "execution_count": 2,
   "metadata": {},
   "outputs": [
    {
     "name": "stdout",
     "output_type": "stream",
     "text": [
      "Process finished --- 4.348724842071533 seconds ---\n"
     ]
    }
   ],
   "source": [
    "print(\"Process finished --- %s seconds ---\" % (time.time() - start_time))\n"
   ]
  },
  {
   "cell_type": "code",
   "execution_count": null,
   "metadata": {},
   "outputs": [],
   "source": []
  }
 ],
 "metadata": {
  "kernelspec": {
   "display_name": "Python 3",
   "language": "python",
   "name": "python3"
  },
  "language_info": {
   "codemirror_mode": {
    "name": "ipython",
    "version": 3
   },
   "file_extension": ".py",
   "mimetype": "text/x-python",
   "name": "python",
   "nbconvert_exporter": "python",
   "pygments_lexer": "ipython3",
   "version": "3.undefined.undefined"
  }
 },
 "nbformat": 4,
 "nbformat_minor": 2
}
