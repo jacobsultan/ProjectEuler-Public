{
 "cells": [
  {
   "cell_type": "markdown",
   "metadata": {},
   "source": [
    "The number $145$ is well known for the property that the sum of the factorial of its digits is equal to $145$:\n",
    "$$1! + 4! + 5! = 1 + 24 + 120 = 145.$$\n",
    "Perhaps less well known is $169$, in that it produces the longest chain of numbers that link back to $169$; it turns out that there are only three such loops that exist:\n",
    "\\begin{align}\n",
    "&amp;169 \\to 363601 \\to 1454 \\to 169\\\\\n",
    "&amp;871 \\to 45361 \\to 871\\\\\n",
    "&amp;872 \\to 45362 \\to 872\n",
    "\\end{align}\n",
    "It is not difficult to prove that EVERY starting number will eventually get stuck in a loop. For example,\n",
    "\\begin{align}\n",
    "&amp;69 \\to 363600 \\to 1454 \\to 169 \\to 363601 (\\to 1454)\\\\\n",
    "&amp;78 \\to 45360 \\to 871 \\to 45361 (\\to 871)\\\\\n",
    "&amp;540 \\to 145 (\\to 145)\n",
    "\\end{align}\n",
    "Starting with $69$ produces a chain of five non-repeating terms, but the longest non-repeating chain with a starting number below one million is sixty terms.\n",
    "How many chains, with a starting number below one million, contain exactly sixty non-repeating terms?\n"
   ]
  },
  {
   "cell_type": "code",
   "execution_count": 1,
   "metadata": {},
   "outputs": [],
   "source": [
    "import time\n",
    "start_time = time.time()"
   ]
  },
  {
   "cell_type": "code",
   "execution_count": 2,
   "metadata": {},
   "outputs": [
    {
     "name": "stdout",
     "output_type": "stream",
     "text": [
      "Process finished --- 4.348724842071533 seconds ---\n"
     ]
    }
   ],
   "source": [
    "print(\"Process finished --- %s seconds ---\" % (time.time() - start_time))\n"
   ]
  },
  {
   "cell_type": "code",
   "execution_count": null,
   "metadata": {},
   "outputs": [],
   "source": []
  }
 ],
 "metadata": {
  "kernelspec": {
   "display_name": "Python 3",
   "language": "python",
   "name": "python3"
  },
  "language_info": {
   "codemirror_mode": {
    "name": "ipython",
    "version": 3
   },
   "file_extension": ".py",
   "mimetype": "text/x-python",
   "name": "python",
   "nbconvert_exporter": "python",
   "pygments_lexer": "ipython3",
   "version": "3.undefined.undefined"
  }
 },
 "nbformat": 4,
 "nbformat_minor": 2
}
