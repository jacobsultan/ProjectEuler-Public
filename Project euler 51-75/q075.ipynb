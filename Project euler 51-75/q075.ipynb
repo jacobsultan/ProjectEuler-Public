{
 "cells": [
  {
   "cell_type": "markdown",
   "metadata": {},
   "source": [
    "It turns out that $\\pu{12 cm}$ is the smallest length of wire that can be bent to form an integer sided right angle triangle in exactly one way, but there are many more examples.\n",
    "<ul style=\"list-style-type:none;\">\n",
    "<li>$\\pu{\\mathbf{12} \\mathbf{cm}}$: $(3,4,5)$</li>\n",
    "<li>$\\pu{\\mathbf{24} \\mathbf{cm}}$: $(6,8,10)$</li>\n",
    "<li>$\\pu{\\mathbf{30} \\mathbf{cm}}$: $(5,12,13)$</li>\n",
    "<li>$\\pu{\\mathbf{36} \\mathbf{cm}}$: $(9,12,15)$</li>\n",
    "<li>$\\pu{\\mathbf{40} \\mathbf{cm}}$: $(8,15,17)$</li>\n",
    "<li>$\\pu{\\mathbf{48} \\mathbf{cm}}$: $(12,16,20)$</li></ul>\n",
    "In contrast, some lengths of wire, like $\\pu{20 cm}$, cannot be bent to form an integer sided right angle triangle, and other lengths allow more than one solution to be found; for example, using $\\pu{120 cm}$ it is possible to form exactly three different integer sided right angle triangles.\n",
    "<ul style=\"list-style-type:none;\">\n",
    "<li>$\\pu{\\mathbf{120} \\mathbf{cm}}$: $(30,40,50)$, $(20,48,52)$, $(24,45,51)$</li></ul>\n",
    "\n",
    "Given that $L$ is the length of the wire, for how many values of $L \\le 1\\,500\\,000$ can exactly one integer sided right angle triangle be formed?\n"
   ]
  },
  {
   "cell_type": "code",
   "execution_count": 1,
   "metadata": {},
   "outputs": [],
   "source": [
    "import time\n",
    "start_time = time.time()"
   ]
  },
  {
   "cell_type": "code",
   "execution_count": 2,
   "metadata": {},
   "outputs": [
    {
     "name": "stdout",
     "output_type": "stream",
     "text": [
      "Process finished --- 4.348724842071533 seconds ---\n"
     ]
    }
   ],
   "source": [
    "print(\"Process finished --- %s seconds ---\" % (time.time() - start_time))\n"
   ]
  },
  {
   "cell_type": "code",
   "execution_count": null,
   "metadata": {},
   "outputs": [],
   "source": []
  }
 ],
 "metadata": {
  "kernelspec": {
   "display_name": "Python 3",
   "language": "python",
   "name": "python3"
  },
  "language_info": {
   "codemirror_mode": {
    "name": "ipython",
    "version": 3
   },
   "file_extension": ".py",
   "mimetype": "text/x-python",
   "name": "python",
   "nbconvert_exporter": "python",
   "pygments_lexer": "ipython3",
   "version": "3.undefined.undefined"
  }
 },
 "nbformat": 4,
 "nbformat_minor": 2
}
