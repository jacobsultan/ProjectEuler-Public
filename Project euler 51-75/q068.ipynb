{
 "cells": [
  {
   "cell_type": "markdown",
   "metadata": {},
   "source": [
    "Consider the following \"magic\" 3-gon ring, filled with the numbers 1 to 6, and each line adding to nine.\n",
    "<div class=\"center\">\n",
    "<img src=\"resources/images/0068_1.png?1678992052\" class=\"dark_img\" alt=\"\"><br></div>\n",
    "Working <b>clockwise</b>, and starting from the group of three with the numerically lowest external node (4,3,2 in this example), each solution can be described uniquely. For example, the above solution can be described by the set: 4,3,2; 6,2,1; 5,1,3.\n",
    "It is possible to complete the ring with four different totals: 9, 10, 11, and 12. There are eight solutions in total.\n",
    "<div class=\"center\">\n",
    "<table width=\"400\" cellspacing=\"0\" cellpadding=\"0\"><tr><td width=\"100\"><b>Total</b></td><td width=\"300\"><b>Solution Set</b></td>\n",
    "</tr><tr><td>9</td><td>4,2,3; 5,3,1; 6,1,2</td>\n",
    "</tr><tr><td>9</td><td>4,3,2; 6,2,1; 5,1,3</td>\n",
    "</tr><tr><td>10</td><td>2,3,5; 4,5,1; 6,1,3</td>\n",
    "</tr><tr><td>10</td><td>2,5,3; 6,3,1; 4,1,5</td>\n",
    "</tr><tr><td>11</td><td>1,4,6; 3,6,2; 5,2,4</td>\n",
    "</tr><tr><td>11</td><td>1,6,4; 5,4,2; 3,2,6</td>\n",
    "</tr><tr><td>12</td><td>1,5,6; 2,6,4; 3,4,5</td>\n",
    "</tr><tr><td>12</td><td>1,6,5; 3,5,4; 2,4,6</td>\n",
    "</tr></table></div>\n",
    "By concatenating each group it is possible to form 9-digit strings; the maximum string for a 3-gon ring is 432621513.\n",
    "Using the numbers 1 to 10, and depending on arrangements, it is possible to form 16- and 17-digit strings. What is the maximum <b>16-digit</b> string for a \"magic\" 5-gon ring?\n",
    "<div class=\"center\">\n",
    "<img src=\"resources/images/0068_2.png?1678992052\" class=\"dark_img\" alt=\"\"><br></div>\n"
   ]
  },
  {
   "cell_type": "code",
   "execution_count": 1,
   "metadata": {},
   "outputs": [],
   "source": [
    "import time\n",
    "start_time = time.time()"
   ]
  },
  {
   "cell_type": "code",
   "execution_count": 2,
   "metadata": {},
   "outputs": [
    {
     "name": "stdout",
     "output_type": "stream",
     "text": [
      "Process finished --- 4.348724842071533 seconds ---\n"
     ]
    }
   ],
   "source": [
    "print(\"Process finished --- %s seconds ---\" % (time.time() - start_time))\n"
   ]
  },
  {
   "cell_type": "code",
   "execution_count": null,
   "metadata": {},
   "outputs": [],
   "source": []
  }
 ],
 "metadata": {
  "kernelspec": {
   "display_name": "Python 3",
   "language": "python",
   "name": "python3"
  },
  "language_info": {
   "codemirror_mode": {
    "name": "ipython",
    "version": 3
   },
   "file_extension": ".py",
   "mimetype": "text/x-python",
   "name": "python",
   "nbconvert_exporter": "python",
   "pygments_lexer": "ipython3",
   "version": "3.undefined.undefined"
  }
 },
 "nbformat": 4,
 "nbformat_minor": 2
}
