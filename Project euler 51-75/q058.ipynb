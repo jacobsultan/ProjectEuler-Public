{
 "cells": [
  {
   "cell_type": "markdown",
   "metadata": {},
   "source": [
    "Starting with $1$ and spiralling anticlockwise in the following way, a square spiral with side length $7$ is formed.\n",
    "<p class=\"center monospace\"><span class=\"red\"><b>37</b></span> 36 35 34 33 32 <span class=\"red\"><b>31</b></span><br>\n",
    "38 <span class=\"red\"><b>17</b></span> 16 15 14 <span class=\"red\"><b>13</b></span> 30<br>\n",
    "39 18 <span class=\"red\"> <b>5</b></span>  4 <span class=\"red\"> <b>3</b></span> 12 29<br>\n",
    "40 19  6  1  2 11 28<br>\n",
    "41 20 <span class=\"red\"> <b>7</b></span>  8  9 10 27<br>\n",
    "42 21 22 23 24 25 26<br><span class=\"red\"><b>43</b></span> 44 45 46 47 48 49\n",
    "It is interesting to note that the odd squares lie along the bottom right diagonal, but what is more interesting is that $8$ out of the $13$ numbers lying along both diagonals are prime; that is, a ratio of $8/13 \\approx 62\\%$.\n",
    "If one complete new layer is wrapped around the spiral above, a square spiral with side length $9$ will be formed. If this process is continued, what is the side length of the square spiral for which the ratio of primes along both diagonals first falls below $10\\%$?\n"
   ]
  },
  {
   "cell_type": "code",
   "execution_count": 1,
   "metadata": {},
   "outputs": [],
   "source": [
    "import time\n",
    "start_time = time.time()"
   ]
  },
  {
   "cell_type": "code",
   "execution_count": 2,
   "metadata": {},
   "outputs": [
    {
     "name": "stdout",
     "output_type": "stream",
     "text": [
      "Process finished --- 4.348724842071533 seconds ---\n"
     ]
    }
   ],
   "source": [
    "print(\"Process finished --- %s seconds ---\" % (time.time() - start_time))\n"
   ]
  },
  {
   "cell_type": "code",
   "execution_count": null,
   "metadata": {},
   "outputs": [],
   "source": []
  }
 ],
 "metadata": {
  "kernelspec": {
   "display_name": "Python 3",
   "language": "python",
   "name": "python3"
  },
  "language_info": {
   "codemirror_mode": {
    "name": "ipython",
    "version": 3
   },
   "file_extension": ".py",
   "mimetype": "text/x-python",
   "name": "python",
   "nbconvert_exporter": "python",
   "pygments_lexer": "ipython3",
   "version": "3.undefined.undefined"
  }
 },
 "nbformat": 4,
 "nbformat_minor": 2
}
