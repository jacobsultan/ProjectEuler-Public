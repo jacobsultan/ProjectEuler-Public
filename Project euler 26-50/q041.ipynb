{
 "cells": [
  {
   "cell_type": "markdown",
   "metadata": {},
   "source": [
    "We shall say that an $n$-digit number is pandigital if it makes use of all the digits $1$ to $n$ exactly once. For example, $2143$ is a $4$-digit pandigital and is also prime.\n",
    "What is the largest $n$-digit pandigital prime that exists?\n"
   ]
  },
  {
   "cell_type": "code",
   "execution_count": 20,
   "metadata": {},
   "outputs": [],
   "source": [
    "import time\n",
    "start_time = time.time()"
   ]
  },
  {
   "cell_type": "code",
   "execution_count": 21,
   "metadata": {},
   "outputs": [],
   "source": [
    "timenow = time.time()\n",
    "primes = [2]\n",
    "lastprime = 1\n",
    "for i in range(2,33000):\n",
    "    temp = i\n",
    "    for prime in primes:\n",
    "        if temp < lastprime:\n",
    "            break\n",
    "        elif prime ** 2 > i:\n",
    "            if temp == i:\n",
    "                primes.append(temp)\n",
    "                lastprime = temp\n",
    "            temp = 1\n",
    "            break\n",
    "        while (temp / prime).is_integer():\n",
    "            temp = int(temp / prime)  \n",
    "\n",
    "primeset = set(primes)"
   ]
  },
  {
   "cell_type": "code",
   "execution_count": 22,
   "metadata": {},
   "outputs": [
    {
     "data": {
      "text/plain": [
       "[123, 132, 213, 231, 312, 321]"
      ]
     },
     "execution_count": 22,
     "metadata": {},
     "output_type": "execute_result"
    }
   ],
   "source": [
    "from itertools import permutations\n",
    "\n",
    "def pans(digits):\n",
    "    perm = permutations(digits)    \n",
    "    numbers = []\n",
    "    for p in perm:\n",
    "        num = int(''.join(map(str, p)))\n",
    "        numbers.append(num)\n",
    "    return numbers\n",
    "\n",
    "# Example usage\n",
    "digits = [1, 2, 3]\n",
    "pans(digits)"
   ]
  },
  {
   "cell_type": "code",
   "execution_count": 23,
   "metadata": {},
   "outputs": [
    {
     "name": "stdout",
     "output_type": "stream",
     "text": [
      "7654321\n"
     ]
    }
   ],
   "source": [
    "    \n",
    "\n",
    "def is_prime(num):\n",
    "    for prime in primeset:\n",
    "        if (num / prime).is_integer():\n",
    "            return False\n",
    "        elif prime ** 2 > num:\n",
    "            return True\n",
    "    \n",
    "\n",
    "max_found = 0\n",
    "for i in range(2,11):\n",
    "    nums_to_use = [j for j in range(1,i)]\n",
    "    pandigitals = pans(nums_to_use)[::-1]\n",
    "    for pan in pandigitals:\n",
    "        if pan > max_found:\n",
    "            if is_prime(pan):\n",
    "                max_found = pan\n",
    "            \n",
    "print(max_found)"
   ]
  },
  {
   "cell_type": "code",
   "execution_count": 24,
   "metadata": {},
   "outputs": [
    {
     "name": "stdout",
     "output_type": "stream",
     "text": [
      "Process finished --- 0.5978350639343262 seconds ---\n"
     ]
    }
   ],
   "source": [
    "print(\"Process finished --- %s seconds ---\" % (time.time() - start_time))\n"
   ]
  },
  {
   "cell_type": "code",
   "execution_count": null,
   "metadata": {},
   "outputs": [],
   "source": []
  }
 ],
 "metadata": {
  "kernelspec": {
   "display_name": "Python 3",
   "language": "python",
   "name": "python3"
  },
  "language_info": {
   "codemirror_mode": {
    "name": "ipython",
    "version": 3
   },
   "file_extension": ".py",
   "mimetype": "text/x-python",
   "name": "python",
   "nbconvert_exporter": "python",
   "pygments_lexer": "ipython3",
   "version": "3.9.6"
  }
 },
 "nbformat": 4,
 "nbformat_minor": 2
}
