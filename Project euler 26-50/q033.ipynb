{
 "cells": [
  {
   "cell_type": "markdown",
   "metadata": {},
   "source": [
    "The fraction $49/98$ is a curious fraction, as an inexperienced mathematician in attempting to simplify it may incorrectly believe that $49/98 = 4/8$, which is correct, is obtained by cancelling the $9$s.\n",
    "We shall consider fractions like, $30/50 = 3/5$, to be trivial examples.\n",
    "There are exactly four non-trivial examples of this type of fraction, less than one in value, and containing two digits in the numerator and denominator.\n",
    "If the product of these four fractions is given in its lowest common terms, find the value of the denominator.\n"
   ]
  },
  {
   "cell_type": "code",
   "execution_count": 7,
   "metadata": {},
   "outputs": [],
   "source": [
    "import time\n",
    "import numpy as np\n",
    "start_time = time.time()"
   ]
  },
  {
   "cell_type": "code",
   "execution_count": 15,
   "metadata": {},
   "outputs": [
    {
     "data": {
      "text/plain": [
       "0.010000000000000002"
      ]
     },
     "execution_count": 15,
     "metadata": {},
     "output_type": "execute_result"
    }
   ],
   "source": [
    "keep = []\n",
    "for i in range(10,100):\n",
    "    for j in range(i + 1,100):\n",
    "        if i // 10 != i / 10:      \n",
    "            if i % 10 == j % 10:\n",
    "                if j // 10 != 0 and (i//10) / (j // 10) == (i / j):\n",
    "                    keep.append(i/j)\n",
    "            if i // 10 == j % 10:\n",
    "                if (i %10) / (j // 10) == (i / j):\n",
    "                    keep.append(i/j)\n",
    "            if i // 10 == j // 10 and (i % 10) / (j % 10) == (i / j):\n",
    "                keep.append(i/j)\n",
    "            if i % 10 == j // 10 and j % 10 != 0 and (i // 10) / (j % 10) == (i / j):\n",
    "                keep.append(i/j)\n",
    "np.prod(keep)\n",
    "                \n",
    "        \n",
    "            "
   ]
  },
  {
   "cell_type": "code",
   "execution_count": 12,
   "metadata": {},
   "outputs": [
    {
     "name": "stdout",
     "output_type": "stream",
     "text": [
      "Process finished --- 0.038755178451538086 seconds ---\n"
     ]
    }
   ],
   "source": [
    "print(\"Process finished --- %s seconds ---\" % (time.time() - start_time))\n"
   ]
  },
  {
   "cell_type": "code",
   "execution_count": null,
   "metadata": {},
   "outputs": [],
   "source": []
  }
 ],
 "metadata": {
  "kernelspec": {
   "display_name": "Python 3",
   "language": "python",
   "name": "python3"
  },
  "language_info": {
   "codemirror_mode": {
    "name": "ipython",
    "version": 3
   },
   "file_extension": ".py",
   "mimetype": "text/x-python",
   "name": "python",
   "nbconvert_exporter": "python",
   "pygments_lexer": "ipython3",
   "version": "3.9.6"
  }
 },
 "nbformat": 4,
 "nbformat_minor": 2
}
