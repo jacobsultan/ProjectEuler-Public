{
 "cells": [
  {
   "cell_type": "markdown",
   "metadata": {},
   "source": [
    "The prime $41$, can be written as the sum of six consecutive primes:\n",
    "$$41 = 2 + 3 + 5 + 7 + 11 + 13.$$\n",
    "This is the longest sum of consecutive primes that adds to a prime below one-hundred.\n",
    "The longest sum of consecutive primes below one-thousand that adds to a prime, contains $21$ terms, and is equal to $953$.\n",
    "Which prime, below one-million, can be written as the sum of the most consecutive primes?"
   ]
  },
  {
   "cell_type": "code",
   "execution_count": 1,
   "metadata": {},
   "outputs": [],
   "source": [
    "import time\n",
    "start_time = time.time()"
   ]
  },
  {
   "cell_type": "code",
   "execution_count": 14,
   "metadata": {},
   "outputs": [],
   "source": [
    "\n",
    "primes = [2]\n",
    "lastprime = 1\n",
    "for i in range(2,1000000):\n",
    "    temp = i\n",
    "    for prime in primes:\n",
    "        if temp < lastprime:\n",
    "            break\n",
    "        elif prime ** 2 > i:\n",
    "            if temp == i:\n",
    "                primes.append(temp)\n",
    "                lastprime = temp\n",
    "            temp = 1\n",
    "            break\n",
    "        while (temp / prime).is_integer():\n",
    "            temp = int(temp / prime)  \n",
    "primeset = set(primes)\n",
    "primes[0] = 1"
   ]
  },
  {
   "cell_type": "code",
   "execution_count": 22,
   "metadata": {},
   "outputs": [
    {
     "data": {
      "text/plain": [
       "1218687"
      ]
     },
     "execution_count": 22,
     "metadata": {},
     "output_type": "execute_result"
    }
   ],
   "source": [
    "sum(primes[:600])"
   ]
  },
  {
   "cell_type": "code",
   "execution_count": 24,
   "metadata": {},
   "outputs": [
    {
     "name": "stdout",
     "output_type": "stream",
     "text": [
      "997651\n"
     ]
    }
   ],
   "source": [
    "notfound = True\n",
    "for i in range(600,1,-1):\n",
    "    if notfound:\n",
    "        if i % 1000 == 0:\n",
    "            print(i)\n",
    "        if sum(primes[0:i]) > 1000000:\n",
    "            continue\n",
    "        for j in range(0, len(primes) - i):\n",
    "            summ = sum(primes[j:j + i])\n",
    "            if summ in primes:\n",
    "                print(summ)\n",
    "                notfound = False\n",
    "            if summ > 1000000:\n",
    "                break"
   ]
  },
  {
   "cell_type": "code",
   "execution_count": 2,
   "metadata": {},
   "outputs": [
    {
     "name": "stdout",
     "output_type": "stream",
     "text": [
      "Process finished --- 4.348724842071533 seconds ---\n"
     ]
    }
   ],
   "source": [
    "print(\"Process finished --- %s seconds ---\" % (time.time() - start_time))\n"
   ]
  },
  {
   "cell_type": "code",
   "execution_count": null,
   "metadata": {},
   "outputs": [],
   "source": []
  }
 ],
 "metadata": {
  "kernelspec": {
   "display_name": "Python 3",
   "language": "python",
   "name": "python3"
  },
  "language_info": {
   "codemirror_mode": {
    "name": "ipython",
    "version": 3
   },
   "file_extension": ".py",
   "mimetype": "text/x-python",
   "name": "python",
   "nbconvert_exporter": "python",
   "pygments_lexer": "ipython3",
   "version": "3.9.6"
  }
 },
 "nbformat": 4,
 "nbformat_minor": 2
}
