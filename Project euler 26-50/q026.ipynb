{
 "cells": [
  {
   "cell_type": "markdown",
   "metadata": {},
   "source": [
    "A unit fraction contains $1$ in the numerator. The decimal representation of the unit fractions with denominators $2$ to $10$ are given:\n",
    "\\begin{align}\n",
    "1/2 &amp;= 0.5\\\\\n",
    "1/3 &amp;=0.(3)\\\\\n",
    "1/4 &amp;=0.25\\\\\n",
    "1/5 &amp;= 0.2\\\\\n",
    "1/6 &amp;= 0.1(6)\\\\\n",
    "1/7 &amp;= 0.(142857)\\\\\n",
    "1/8 &amp;= 0.125\\\\\n",
    "1/9 &amp;= 0.(1)\\\\\n",
    "1/10 &amp;= 0.1\n",
    "\\end{align}\n",
    "Where $0.1(6)$ means $0.166666\\cdots$, and has a $1$-digit recurring cycle. It can be seen that $1/7$ has a $6$-digit recurring cycle.\n",
    "Find the value of $d \\lt 1000$ for which $1/d$ contains the longest recurring cycle in its decimal fraction part.\n"
   ]
  },
  {
   "cell_type": "code",
   "execution_count": 1,
   "metadata": {},
   "outputs": [],
   "source": [
    "import time\n",
    "start_time = time.time()"
   ]
  },
  {
   "cell_type": "code",
   "execution_count": 2,
   "metadata": {},
   "outputs": [
    {
     "name": "stdout",
     "output_type": "stream",
     "text": [
      "Process finished --- 4.348724842071533 seconds ---\n"
     ]
    }
   ],
   "source": [
    "print(\"Process finished --- %s seconds ---\" % (time.time() - start_time))\n"
   ]
  },
  {
   "cell_type": "code",
   "execution_count": null,
   "metadata": {},
   "outputs": [],
   "source": []
  }
 ],
 "metadata": {
  "kernelspec": {
   "display_name": "Python 3",
   "language": "python",
   "name": "python3"
  },
  "language_info": {
   "codemirror_mode": {
    "name": "ipython",
    "version": 3
   },
   "file_extension": ".py",
   "mimetype": "text/x-python",
   "name": "python",
   "nbconvert_exporter": "python",
   "pygments_lexer": "ipython3",
   "version": "3.undefined.undefined"
  }
 },
 "nbformat": 4,
 "nbformat_minor": 2
}
