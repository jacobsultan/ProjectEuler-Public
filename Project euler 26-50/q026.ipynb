{
 "cells": [
  {
   "cell_type": "markdown",
   "metadata": {},
   "source": [
    "A unit fraction contains $1$ in the numerator. The decimal representation of the unit fractions with denominators $2$ to $10$ are given:\n",
    "\\begin{align}\n",
    "1/2 = 0.5\\\\\n",
    "1/3 =0.(3)\\\\\n",
    "1/4 =0.25\\\\\n",
    "1/5 = 0.2\\\\\n",
    "1/6 = 0.1(6)\\\\\n",
    "1/7 = 0.(142857)\\\\\n",
    "1/8 = 0.125\\\\\n",
    "1/9 = 0.(1)\\\\\n",
    "1/10 = 0.1\n",
    "\\end{align}\n",
    "Where $0.1(6)$ means $0.166666\\cdots$, and has a $1$-digit recurring cycle. It can be seen that $1/7$ has a $6$-digit recurring cycle.\n",
    "Find the value of $d \\lt 1000$ for which $1/d$ contains the longest recurring cycle in its decimal fraction part.\n"
   ]
  },
  {
   "cell_type": "code",
   "execution_count": 12,
   "metadata": {},
   "outputs": [],
   "source": [
    "import time\n",
    "start_time = time.time()"
   ]
  },
  {
   "cell_type": "code",
   "execution_count": 13,
   "metadata": {},
   "outputs": [],
   "source": [
    "def rec_length(n):\n",
    "    remainders = {}\n",
    "    value = 1\n",
    "    position = 0\n",
    "\n",
    "    while value != 0 and value not in remainders:\n",
    "        remainders[value] = position\n",
    "        value = (value * 10) % n\n",
    "        position += 1\n",
    "\n",
    "    if value == 0:\n",
    "        return 0\n",
    "    else:\n",
    "        return position - remainders[value]\n"
   ]
  },
  {
   "cell_type": "code",
   "execution_count": 14,
   "metadata": {},
   "outputs": [
    {
     "name": "stdout",
     "output_type": "stream",
     "text": [
      "983\n"
     ]
    }
   ],
   "source": [
    "\n",
    "max_length = 0\n",
    "d_with_max_length = 0\n",
    "\n",
    "for d in range(2, 1000):\n",
    "    cycle_length = rec_length(d)\n",
    "    if cycle_length > max_length:\n",
    "        max_length = cycle_length\n",
    "        d_with_max_length = d\n",
    "\n",
    "print(d_with_max_length)"
   ]
  },
  {
   "cell_type": "code",
   "execution_count": 15,
   "metadata": {},
   "outputs": [
    {
     "name": "stdout",
     "output_type": "stream",
     "text": [
      "Process finished --- 0.037589073181152344 seconds ---\n"
     ]
    }
   ],
   "source": [
    "print(\"Process finished --- %s seconds ---\" % (time.time() - start_time))\n"
   ]
  },
  {
   "cell_type": "code",
   "execution_count": null,
   "metadata": {},
   "outputs": [],
   "source": []
  }
 ],
 "metadata": {
  "kernelspec": {
   "display_name": "Python 3",
   "language": "python",
   "name": "python3"
  },
  "language_info": {
   "codemirror_mode": {
    "name": "ipython",
    "version": 3
   },
   "file_extension": ".py",
   "mimetype": "text/x-python",
   "name": "python",
   "nbconvert_exporter": "python",
   "pygments_lexer": "ipython3",
   "version": "3.9.6"
  }
 },
 "nbformat": 4,
 "nbformat_minor": 2
}
