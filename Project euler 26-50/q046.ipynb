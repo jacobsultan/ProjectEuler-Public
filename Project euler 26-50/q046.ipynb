{
 "cells": [
  {
   "cell_type": "markdown",
   "metadata": {},
   "source": [
    "It was proposed by Christian Goldbach that every odd composite number can be written as the sum of a prime and twice a square.\n",
    "\\begin{align}\n",
    "9 = 7 + 2 \\times 1^2\\\\\n",
    "15 = 7 + 2 \\times 2^2\\\\\n",
    "21 = 3 + 2 \\times 3^2\\\\\n",
    "25 = 7 + 2 \\times 3^2\\\\\n",
    "27 = 19 + 2 \\times 2^2\\\\\n",
    "33 = 31 + 2 \\times 1^2\n",
    "\\end{align}\n",
    "It turns out that the conjecture was false.\n",
    "What is the smallest odd composite that cannot be written as the sum of a prime and twice a square?\n"
   ]
  },
  {
   "cell_type": "code",
   "execution_count": 1,
   "metadata": {},
   "outputs": [],
   "source": [
    "import time\n",
    "start_time = time.time()"
   ]
  },
  {
   "cell_type": "code",
   "execution_count": 5,
   "metadata": {},
   "outputs": [
    {
     "name": "stdout",
     "output_type": "stream",
     "text": [
      "found 5777\n"
     ]
    }
   ],
   "source": [
    "import time\n",
    "timenow = time.time()\n",
    "primes = [2]\n",
    "lastprime = 1\n",
    "for i in range(2,100000):\n",
    "    temp = i\n",
    "    for prime in primes:\n",
    "        if temp < lastprime:\n",
    "            break\n",
    "        elif prime ** 2 > i:\n",
    "            if temp == i:\n",
    "                primes.append(temp)\n",
    "                lastprime = temp\n",
    "            temp = 1\n",
    "            break\n",
    "        while (temp / prime).is_integer():\n",
    "            temp = int(temp / prime) \n",
    "primeset = set(primes)\n",
    "\n",
    "\n",
    "squares = []\n",
    "for i in range(100000):\n",
    "    squares.append(i ** 2)\n",
    "\n",
    "notfound = True\n",
    "i = 33\n",
    "while (notfound):\n",
    "    i += 2\n",
    "    if i in primeset:\n",
    "        continue\n",
    "    for square in squares:\n",
    "        if (i - 2 * square) in primeset:\n",
    "            break\n",
    "        elif 2 * square > i:\n",
    "            notfound = False\n",
    "            print(\"found\",i)\n",
    "            break\n",
    "    \n",
    "    \n",
    "\n",
    "\n",
    "    \n"
   ]
  },
  {
   "cell_type": "code",
   "execution_count": null,
   "metadata": {},
   "outputs": [
    {
     "name": "stdout",
     "output_type": "stream",
     "text": [
      "Process finished --- 4.348724842071533 seconds ---\n"
     ]
    }
   ],
   "source": [
    "print(\"Process finished --- %s seconds ---\" % (time.time() - start_time))\n"
   ]
  },
  {
   "cell_type": "code",
   "execution_count": null,
   "metadata": {},
   "outputs": [],
   "source": []
  }
 ],
 "metadata": {
  "kernelspec": {
   "display_name": "Python 3",
   "language": "python",
   "name": "python3"
  },
  "language_info": {
   "codemirror_mode": {
    "name": "ipython",
    "version": 3
   },
   "file_extension": ".py",
   "mimetype": "text/x-python",
   "name": "python",
   "nbconvert_exporter": "python",
   "pygments_lexer": "ipython3",
   "version": "3.9.6"
  }
 },
 "nbformat": 4,
 "nbformat_minor": 2
}
