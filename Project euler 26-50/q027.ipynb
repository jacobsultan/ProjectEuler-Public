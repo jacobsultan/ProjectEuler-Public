{
 "cells": [
  {
   "cell_type": "markdown",
   "metadata": {},
   "source": [
    "Euler discovered the remarkable quadratic formula:\n",
    "$n^2 + n + 41$\n",
    "It turns out that the formula will produce $40$ primes for the consecutive integer values $0 \\le n \\le 39$. However, when $n = 40, 40^2 + 40 + 41 = 40(40 + 1) + 41$ is divisible by $41$, and certainly when $n = 41, 41^2 + 41 + 41$ is clearly divisible by $41$.\n",
    "The incredible formula $n^2 - 79n + 1601$ was discovered, which produces $80$ primes for the consecutive values $0 \\le n \\le 79$. The product of the coefficients, $-79$ and $1601$, is $-126479$.\n",
    "Considering quadratics of the form:\n",
    "\n",
    "$n^2 + an + b$, where $|a|  \\lt; 1000$ and $|b| \\le 1000$ where $|n|$ is the modulus/absolute value of $n$ e.g. $|11| = 11$ and $|-4| = 4$\n",
    "Find the product of the coefficients, $a$ and $b$, for the quadratic expression that produces the maximum number of primes for consecutive values of $n$, starting with $n = 0$.\n"
   ]
  },
  {
   "cell_type": "code",
   "execution_count": 1,
   "metadata": {},
   "outputs": [],
   "source": [
    "import time\n",
    "start_time = time.time()"
   ]
  },
  {
   "cell_type": "code",
   "execution_count": 7,
   "metadata": {},
   "outputs": [],
   "source": [
    "primes = [2]\n",
    "lastprime = 1\n",
    "for i in range(2,1000000):\n",
    "    temp = i\n",
    "    for prime in primes:\n",
    "        if temp < lastprime:\n",
    "            break\n",
    "        elif prime ** 2 > i:\n",
    "            if temp == i:\n",
    "                primes.append(temp)\n",
    "                lastprime = temp\n",
    "            temp = 1\n",
    "            break\n",
    "        while (temp / prime).is_integer():\n",
    "            temp = int(temp / prime)  \n",
    "\n",
    "setprimes = set(primes)\n",
    "primes[0] = 1"
   ]
  },
  {
   "cell_type": "code",
   "execution_count": 8,
   "metadata": {},
   "outputs": [
    {
     "name": "stdout",
     "output_type": "stream",
     "text": [
      "71\n",
      "-61\n",
      "971\n"
     ]
    }
   ],
   "source": [
    "\n",
    "\n",
    "\n",
    "def test(first,second,input):\n",
    "    tot = input ** 2\n",
    "    tot += first * input + second\n",
    "    return tot\n",
    "\n",
    "maxk = 1\n",
    "reta = 1\n",
    "retb = 1\n",
    "\n",
    "for a in range(-1001,1001):\n",
    "    for b in range(-1001,1001):\n",
    "        k = 0\n",
    "        while(test(a,b,k) in setprimes):\n",
    "            k += 1\n",
    "        if k > maxk:\n",
    "            maxk = k\n",
    "            reta = a\n",
    "            retb = b\n",
    "\n",
    "print(maxk)\n",
    "print(reta)\n",
    "print(retb)"
   ]
  },
  {
   "cell_type": "code",
   "execution_count": 3,
   "metadata": {},
   "outputs": [
    {
     "name": "stdout",
     "output_type": "stream",
     "text": [
      "Process finished --- 6.463281869888306 seconds ---\n"
     ]
    }
   ],
   "source": [
    "print(\"Process finished --- %s seconds ---\" % (time.time() - start_time))\n"
   ]
  },
  {
   "cell_type": "code",
   "execution_count": null,
   "metadata": {},
   "outputs": [],
   "source": []
  }
 ],
 "metadata": {
  "kernelspec": {
   "display_name": "Python 3",
   "language": "python",
   "name": "python3"
  },
  "language_info": {
   "codemirror_mode": {
    "name": "ipython",
    "version": 3
   },
   "file_extension": ".py",
   "mimetype": "text/x-python",
   "name": "python",
   "nbconvert_exporter": "python",
   "pygments_lexer": "ipython3",
   "version": "3.9.6"
  }
 },
 "nbformat": 4,
 "nbformat_minor": 2
}
