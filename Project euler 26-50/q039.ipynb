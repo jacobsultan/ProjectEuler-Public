{
 "cells": [
  {
   "cell_type": "markdown",
   "metadata": {},
   "source": [
    "If $p$ is the perimeter of a right angle triangle with integral length sides, $\\{a, b, c\\}$, there are exactly three solutions for $p = 120$.\n",
    "$\\{20,48,52\\}$, $\\{24,45,51\\}$, $\\{30,40,50\\}$\n",
    "For which value of $p \\le 1000$, is the number of solutions maximised?\n"
   ]
  },
  {
   "cell_type": "code",
   "execution_count": 1,
   "metadata": {},
   "outputs": [],
   "source": [
    "import time\n",
    "start_time = time.time()"
   ]
  },
  {
   "cell_type": "code",
   "execution_count": 5,
   "metadata": {},
   "outputs": [
    {
     "name": "stdout",
     "output_type": "stream",
     "text": [
      "840\n"
     ]
    }
   ],
   "source": [
    "squares = {}\n",
    "for i in range(1000):\n",
    "    squares[i]  = i ** 2\n",
    "\n",
    "pmax = 3\n",
    "pind = 120\n",
    "pcount = {}\n",
    "for p in range(1000):\n",
    "    pcombo = 0\n",
    "\n",
    "    for c in range(int(p / 3),p):\n",
    "        for a in range(p - c):\n",
    "\n",
    "            if a >= c:\n",
    "                break\n",
    "\n",
    "            elif p-c-a > a:\n",
    "                continue\n",
    "\n",
    "            else:\n",
    "                b = p - c - a\n",
    "                if squares[a] + squares[b] == squares[c]:\n",
    "                    pcombo += 1\n",
    "    if pcombo > pmax:\n",
    "        pmax = pcombo\n",
    "        pind = p\n",
    "\n",
    "    pcount[p] = pcombo\n",
    "\n",
    "max = 0\n",
    "maxkey = 0\n",
    "for key in pcount:\n",
    "    if pcount[key] > max:\n",
    "        max = pcount[key]\n",
    "        maxkey = key\n",
    "\n",
    "print(maxkey)\n",
    "\n",
    "\n",
    "\n"
   ]
  },
  {
   "cell_type": "code",
   "execution_count": 3,
   "metadata": {},
   "outputs": [
    {
     "name": "stdout",
     "output_type": "stream",
     "text": [
      "Process finished --- 10.426813840866089 seconds ---\n"
     ]
    }
   ],
   "source": [
    "print(\"Process finished --- %s seconds ---\" % (time.time() - start_time))\n"
   ]
  },
  {
   "cell_type": "code",
   "execution_count": null,
   "metadata": {},
   "outputs": [],
   "source": []
  }
 ],
 "metadata": {
  "kernelspec": {
   "display_name": "Python 3",
   "language": "python",
   "name": "python3"
  },
  "language_info": {
   "codemirror_mode": {
    "name": "ipython",
    "version": 3
   },
   "file_extension": ".py",
   "mimetype": "text/x-python",
   "name": "python",
   "nbconvert_exporter": "python",
   "pygments_lexer": "ipython3",
   "version": "3.9.6"
  }
 },
 "nbformat": 4,
 "nbformat_minor": 2
}
