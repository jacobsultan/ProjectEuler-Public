{
 "cells": [
  {
   "cell_type": "markdown",
   "metadata": {},
   "source": [
    "The decimal number, $585 = 1001001001_2$ (binary), is palindromic in both bases.\n",
    "Find the sum of all numbers, less than one million, which are palindromic in base $10$ and base $2$.\n",
    "<p class=\"smaller\">(Please note that the palindromic number, in either base, may not include leading zeros.)\n"
   ]
  },
  {
   "cell_type": "code",
   "execution_count": 18,
   "metadata": {},
   "outputs": [],
   "source": [
    "import time\n",
    "start_time = time.time()"
   ]
  },
  {
   "cell_type": "code",
   "execution_count": 19,
   "metadata": {},
   "outputs": [],
   "source": [
    "def numtobin(integer):\n",
    "    twofactor = 1\n",
    "    while(2 ** (twofactor) <= integer):\n",
    "        twofactor += 1\n",
    "    length = twofactor\n",
    "    bin = \"\"\n",
    "    while(integer > 0):\n",
    "        if 2 ** twofactor <= integer:\n",
    "            bin += \"1\"\n",
    "            integer -= 2 ** twofactor\n",
    "        else:\n",
    "            bin += \"0\"\n",
    "        twofactor -= 1\n",
    "    bin += (length - len(bin) + 1) * \"0\"\n",
    "    return int(bin)"
   ]
  },
  {
   "cell_type": "code",
   "execution_count": 20,
   "metadata": {},
   "outputs": [],
   "source": [
    "def palindrome(number):\n",
    "    return str(number)[::-1] == str(number) and str(number)[::-1][0] != '0'"
   ]
  },
  {
   "cell_type": "code",
   "execution_count": 21,
   "metadata": {},
   "outputs": [
    {
     "data": {
      "text/plain": [
       "872187"
      ]
     },
     "execution_count": 21,
     "metadata": {},
     "output_type": "execute_result"
    }
   ],
   "source": [
    "sum([x for x in range(1000000) if palindrome(x) and palindrome(numtobin(x))])"
   ]
  },
  {
   "cell_type": "code",
   "execution_count": 22,
   "metadata": {},
   "outputs": [
    {
     "name": "stdout",
     "output_type": "stream",
     "text": [
      "Process finished --- 0.3026001453399658 seconds ---\n"
     ]
    }
   ],
   "source": [
    "print(\"Process finished --- %s seconds ---\" % (time.time() - start_time))\n"
   ]
  },
  {
   "cell_type": "code",
   "execution_count": null,
   "metadata": {},
   "outputs": [],
   "source": []
  }
 ],
 "metadata": {
  "kernelspec": {
   "display_name": "Python 3",
   "language": "python",
   "name": "python3"
  },
  "language_info": {
   "codemirror_mode": {
    "name": "ipython",
    "version": 3
   },
   "file_extension": ".py",
   "mimetype": "text/x-python",
   "name": "python",
   "nbconvert_exporter": "python",
   "pygments_lexer": "ipython3",
   "version": "3.9.6"
  }
 },
 "nbformat": 4,
 "nbformat_minor": 2
}
