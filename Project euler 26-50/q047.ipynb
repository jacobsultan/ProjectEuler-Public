{
 "cells": [
  {
   "cell_type": "markdown",
   "metadata": {},
   "source": [
    "The first two consecutive numbers to have two distinct prime factors are:\n",
    "\\begin{align}\n",
    "14 = 2 \\times 7\\\\\n",
    "15 = 3 \\times 5.\n",
    "\\end{align}\n",
    "The first three consecutive numbers to have three distinct prime factors are:\n",
    "\\begin{align}\n",
    "644 = 2^2 \\times 7 \\times 23\\\\\n",
    "645 = 3 \\times 5 \\times 43\\\\\n",
    "646 = 2 \\times 17 \\times 19.\n",
    "\\end{align}\n",
    "Find the first four consecutive integers to have four distinct prime factors each. What is the first of these numbers?\n"
   ]
  },
  {
   "cell_type": "code",
   "execution_count": 1,
   "metadata": {},
   "outputs": [],
   "source": [
    "import time\n",
    "start_time = time.time()"
   ]
  },
  {
   "cell_type": "code",
   "execution_count": 29,
   "metadata": {},
   "outputs": [],
   "source": [
    "\n",
    "primes = [2]\n",
    "lastprime = 1\n",
    "for i in range(2,1000000):\n",
    "    temp = i\n",
    "    for prime in primes:\n",
    "        if temp < lastprime:\n",
    "            break\n",
    "        elif prime ** 2 > i:\n",
    "            if temp == i:\n",
    "                primes.append(temp)\n",
    "                lastprime = temp\n",
    "            temp = 1\n",
    "            break\n",
    "        while (temp / prime).is_integer():\n",
    "            temp = int(temp / prime)  \n",
    "\n",
    "\n"
   ]
  },
  {
   "cell_type": "code",
   "execution_count": 32,
   "metadata": {},
   "outputs": [
    {
     "name": "stdout",
     "output_type": "stream",
     "text": [
      "134046\n"
     ]
    }
   ],
   "source": [
    "notfound = True\n",
    "factors = {}\n",
    "i = 1\n",
    "history = 0\n",
    "while notfound:\n",
    "\n",
    "    temp = i\n",
    "    curr_factors = []\n",
    "    j = 0\n",
    "    while temp != 1 and temp not in factors:\n",
    "        while (temp / primes[j]).is_integer():\n",
    "            temp = temp/primes[j]\n",
    "            if primes[j] not in curr_factors:\n",
    "                curr_factors.append(primes[j])\n",
    "        j += 1\n",
    "    if temp != 1:\n",
    "        factors[i] = list(set(curr_factors + factors[temp]))\n",
    "        \n",
    "    else:\n",
    "        factors[i] = list(set(curr_factors))\n",
    "    \n",
    "    if len(factors[i]) == 4:\n",
    "        history += 1\n",
    "    else:\n",
    "        history = 0\n",
    "    \n",
    "    if history == 4:\n",
    "        print(i)\n",
    "        notfound = False\n",
    "    i += 1\n",
    "    "
   ]
  },
  {
   "cell_type": "code",
   "execution_count": 3,
   "metadata": {},
   "outputs": [
    {
     "name": "stdout",
     "output_type": "stream",
     "text": [
      "Process finished --- 26.296295881271362 seconds ---\n"
     ]
    }
   ],
   "source": [
    "print(\"Process finished --- %s seconds ---\" % (time.time() - start_time))\n"
   ]
  },
  {
   "cell_type": "code",
   "execution_count": null,
   "metadata": {},
   "outputs": [],
   "source": []
  }
 ],
 "metadata": {
  "kernelspec": {
   "display_name": "Python 3",
   "language": "python",
   "name": "python3"
  },
  "language_info": {
   "codemirror_mode": {
    "name": "ipython",
    "version": 3
   },
   "file_extension": ".py",
   "mimetype": "text/x-python",
   "name": "python",
   "nbconvert_exporter": "python",
   "pygments_lexer": "ipython3",
   "version": "3.9.6"
  }
 },
 "nbformat": 4,
 "nbformat_minor": 2
}
