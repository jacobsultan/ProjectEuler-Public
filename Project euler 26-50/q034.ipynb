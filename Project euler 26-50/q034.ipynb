{
 "cells": [
  {
   "cell_type": "markdown",
   "metadata": {},
   "source": [
    "$145$ is a curious number, as $1! + 4! + 5! = 1 + 24 + 120 = 145$.\n",
    "Find the sum of all numbers which are equal to the sum of the factorial of their digits.\n",
    "Note: As $1! = 1$ and $2! = 2$ are not sums they are not included.\n"
   ]
  },
  {
   "cell_type": "code",
   "execution_count": 16,
   "metadata": {},
   "outputs": [],
   "source": [
    "import time\n",
    "import math\n",
    "start_time = time.time()"
   ]
  },
  {
   "cell_type": "code",
   "execution_count": 18,
   "metadata": {},
   "outputs": [
    {
     "name": "stdout",
     "output_type": "stream",
     "text": [
      "[145, 40585]\n",
      "40730\n"
     ]
    }
   ],
   "source": [
    "fact = {}\n",
    "for i in range(10):\n",
    "    fact[i] = math.factorial(i) \n",
    "\n",
    "\n",
    "keep = []\n",
    "for i in range(3,1000000):\n",
    "    string = str(i)\n",
    "    if \"8\" in string:\n",
    "        if i < 40000:\n",
    "            continue\n",
    "    if \"9\" in string:\n",
    "        if i < 350000:\n",
    "            continue\n",
    "    if i > 110000:\n",
    "        if string.count(\"9\") < 2:\n",
    "            continue\n",
    "    elif i > 350000:\n",
    "        if \"9\" not in string:\n",
    "            continue\n",
    "    tot = 0\n",
    "    if sum([fact[int(x)] for x in string]) == i:\n",
    "        keep.append(i)\n",
    "print(keep)        \n",
    "print(sum(keep))\n",
    "\n",
    "    \n",
    "\n",
    "\n"
   ]
  },
  {
   "cell_type": "code",
   "execution_count": 19,
   "metadata": {},
   "outputs": [
    {
     "name": "stdout",
     "output_type": "stream",
     "text": [
      "Process finished --- 0.37712907791137695 seconds ---\n"
     ]
    }
   ],
   "source": [
    "print(\"Process finished --- %s seconds ---\" % (time.time() - start_time))\n"
   ]
  },
  {
   "cell_type": "code",
   "execution_count": null,
   "metadata": {},
   "outputs": [],
   "source": []
  }
 ],
 "metadata": {
  "kernelspec": {
   "display_name": "Python 3",
   "language": "python",
   "name": "python3"
  },
  "language_info": {
   "codemirror_mode": {
    "name": "ipython",
    "version": 3
   },
   "file_extension": ".py",
   "mimetype": "text/x-python",
   "name": "python",
   "nbconvert_exporter": "python",
   "pygments_lexer": "ipython3",
   "version": "3.9.6"
  }
 },
 "nbformat": 4,
 "nbformat_minor": 2
}
