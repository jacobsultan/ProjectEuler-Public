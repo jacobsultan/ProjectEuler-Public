{
 "cells": [
  {
   "cell_type": "markdown",
   "metadata": {},
   "source": [
    "The number, $1406357289$, is a $0$ to $9$ pandigital number because it is made up of each of the digits $0$ to $9$ in some order, but it also has a rather interesting sub-string divisibility property.\n",
    "Let $d_1$ be the $1$<sup>st</sup> digit, $d_2$ be the $2$<sup>nd</sup> digit, and so on. In this way, we note the following:\n",
    "$d_2d_3d_4=406$ is divisible by $2$\n",
    "\n",
    "$d_3d_4d_5=063$ is divisible by $3$\n",
    "$d_4d_5d_6=635$ is divisible by $5$\n",
    "$d_5d_6d_7=357$ is divisible by $7$\n",
    "$d_6d_7d_8=572$ is divisible by $11$\n",
    "$d_7d_8d_9=728$ is divisible by $13$\n",
    "$d_8d_9d_{10}=289$ is divisible by $17$\n",
    "</ul>Find the sum of all $0$ to $9$ pandigital numbers with this property.\n"
   ]
  },
  {
   "cell_type": "code",
   "execution_count": 1,
   "metadata": {},
   "outputs": [],
   "source": [
    "import time\n",
    "start_time = time.time()"
   ]
  },
  {
   "cell_type": "code",
   "execution_count": 2,
   "metadata": {},
   "outputs": [
    {
     "name": "stdout",
     "output_type": "stream",
     "text": [
      "3628800\n",
      "1406357289\n",
      "1430952867\n",
      "1460357289\n",
      "4106357289\n",
      "4130952867\n",
      "4160357289\n",
      "16695334890\n"
     ]
    }
   ],
   "source": [
    "pans = []\n",
    "def place(string,top):\n",
    "    if len(string) == top:\n",
    "        pans.append(string)\n",
    "    else:\n",
    "        for i in range(0,top):\n",
    "            if str(i) not in string:\n",
    "                place(string + str(i),top)\n",
    "\n",
    "place(\"\",10)\n",
    "\n",
    "print(len(pans))\n",
    "tot = 0\n",
    "\n",
    "for pan in pans:\n",
    "    if int(pan[1:4]) % 2 != 0:\n",
    "        continue\n",
    "    if int(pan[2:5]) % 3 != 0:\n",
    "        continue\n",
    "    if int(pan[3:6]) % 5 != 0:\n",
    "        continue\n",
    "    if int(pan[4:7]) % 7 != 0:\n",
    "        continue\n",
    "    if int(pan[5:8]) % 11 != 0:\n",
    "        continue\n",
    "    if int(pan[6:9]) % 13 != 0:\n",
    "        continue\n",
    "    if int(pan[7:10]) % 17 != 0:\n",
    "        continue\n",
    "\n",
    "    tot += int(pan)\n",
    "\n",
    "print(tot)\n"
   ]
  },
  {
   "cell_type": "code",
   "execution_count": 3,
   "metadata": {},
   "outputs": [
    {
     "name": "stdout",
     "output_type": "stream",
     "text": [
      "Process finished --- 15.311691999435425 seconds ---\n"
     ]
    }
   ],
   "source": [
    "print(\"Process finished --- %s seconds ---\" % (time.time() - start_time))\n"
   ]
  },
  {
   "cell_type": "code",
   "execution_count": null,
   "metadata": {},
   "outputs": [],
   "source": []
  }
 ],
 "metadata": {
  "kernelspec": {
   "display_name": "Python 3",
   "language": "python",
   "name": "python3"
  },
  "language_info": {
   "codemirror_mode": {
    "name": "ipython",
    "version": 3
   },
   "file_extension": ".py",
   "mimetype": "text/x-python",
   "name": "python",
   "nbconvert_exporter": "python",
   "pygments_lexer": "ipython3",
   "version": "3.9.6"
  }
 },
 "nbformat": 4,
 "nbformat_minor": 2
}
