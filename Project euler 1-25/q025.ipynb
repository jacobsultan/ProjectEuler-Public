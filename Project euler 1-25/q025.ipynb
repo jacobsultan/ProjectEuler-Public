{
 "cells": [
  {
   "cell_type": "markdown",
   "metadata": {},
   "source": []
  },
  {
   "cell_type": "markdown",
   "metadata": {},
   "source": [
    "The Fibonacci sequence is defined by the recurrence relation:\n",
    "$F_n = F_{n - 1} + F_{n - 2}$, where $F_1 = 1$ and $F_2 = 1$.\n",
    "Hence the first $12$ terms will be:\n",
    "\\begin{align}\n",
    "F_1 &amp;= 1\\\\\n",
    "F_2 &amp;= 1\\\\\n",
    "F_3 &amp;= 2\\\\\n",
    "F_4 &amp;= 3\\\\\n",
    "F_5 &amp;= 5\\\\\n",
    "F_6 &amp;= 8\\\\\n",
    "F_7 &amp;= 13\\\\\n",
    "F_8 &amp;= 21\\\\\n",
    "F_9 &amp;= 34\\\\\n",
    "F_{10} &amp;= 55\\\\\n",
    "F_{11} &amp;= 89\\\\\n",
    "F_{12} &amp;= 144\n",
    "\\end{align}\n",
    "The $12$th term, $F_{12}$, is the first term to contain three digits.\n",
    "What is the index of the first term in the Fibonacci sequence to contain $1000$ digits?\n"
   ]
  },
  {
   "cell_type": "code",
   "execution_count": 4,
   "metadata": {},
   "outputs": [],
   "source": [
    "import time\n",
    "start_time = time.time()"
   ]
  },
  {
   "cell_type": "code",
   "execution_count": 5,
   "metadata": {},
   "outputs": [
    {
     "name": "stdout",
     "output_type": "stream",
     "text": [
      "4782\n"
     ]
    }
   ],
   "source": [
    "a, b = 1, 1\n",
    "index = 2  \n",
    "\n",
    "while True:\n",
    "    a, b = b, a + b\n",
    "    index += 1\n",
    "    if len(str(b)) >= 1000:\n",
    "        break\n",
    "print( index)\n",
    "\n"
   ]
  },
  {
   "cell_type": "markdown",
   "metadata": {},
   "source": []
  },
  {
   "cell_type": "markdown",
   "metadata": {},
   "source": [
    "# Code"
   ]
  },
  {
   "cell_type": "code",
   "execution_count": 6,
   "metadata": {},
   "outputs": [
    {
     "name": "stdout",
     "output_type": "stream",
     "text": [
      "Process finished --- 1.4401299953460693 seconds ---\n"
     ]
    }
   ],
   "source": [
    "print(\"Process finished --- %s seconds ---\" % (time.time() - start_time))"
   ]
  },
  {
   "cell_type": "code",
   "execution_count": null,
   "metadata": {},
   "outputs": [],
   "source": []
  }
 ],
 "metadata": {
  "kernelspec": {
   "display_name": "Python 3",
   "language": "python",
   "name": "python3"
  },
  "language_info": {
   "codemirror_mode": {
    "name": "ipython",
    "version": 3
   },
   "file_extension": ".py",
   "mimetype": "text/x-python",
   "name": "python",
   "nbconvert_exporter": "python",
   "pygments_lexer": "ipython3",
   "version": "3.9.6"
  }
 },
 "nbformat": 4,
 "nbformat_minor": 2
}
