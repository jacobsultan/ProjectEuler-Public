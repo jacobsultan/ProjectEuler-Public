{
 "cells": [
  {
   "cell_type": "markdown",
   "metadata": {},
   "source": []
  },
  {
   "cell_type": "markdown",
   "metadata": {},
   "source": [
    "<p>The following iterative sequence is defined for the set of positive integers:</p>\n",
    "<ul style=\"list-style-type:none;\">\n",
    "<li>$n \\to n/2$ ($n$ is even)</li>\n",
    "<li>$n \\to 3n + 1$ ($n$ is odd)</li></ul>\n",
    "<p>Using the rule above and starting with $13$, we generate the following sequence:\n",
    "$$13 \\to 40 \\to 20 \\to 10 \\to 5 \\to 16 \\to 8 \\to 4 \\to 2 \\to 1.$$</p>\n",
    "<p>It can be seen that this sequence (starting at $13$ and finishing at $1$) contains $10$ terms. Although it has not been proved yet (Collatz Problem), it is thought that all starting numbers finish at $1$.</p>\n",
    "<p>Which starting number, under one million, produces the longest chain?</p>\n",
    "<p class=\"note\"><b>NOTE:</b> Once the chain starts the terms are allowed to go above one million.</p>\n"
   ]
  },
  {
   "cell_type": "code",
   "execution_count": 7,
   "metadata": {},
   "outputs": [],
   "source": [
    "import time\n",
    "start_time = time.time()"
   ]
  },
  {
   "cell_type": "markdown",
   "metadata": {},
   "source": [
    "# Code"
   ]
  },
  {
   "cell_type": "code",
   "execution_count": 8,
   "metadata": {},
   "outputs": [
    {
     "name": "stdout",
     "output_type": "stream",
     "text": [
      "837799\n"
     ]
    }
   ],
   "source": [
    "\n",
    "start_number = 1\n",
    "chain_lengths = {}\n",
    "max_length = 0\n",
    "max_start = 0\n",
    "\n",
    "while start_number <= 1000000:\n",
    "    current_length = 1\n",
    "    current_chain = []\n",
    "    current = start_number\n",
    "    current_chain.append(current)\n",
    "\n",
    "    while current != 1:\n",
    "        if current in chain_lengths:\n",
    "            current_length += chain_lengths[current] - 1\n",
    "            break\n",
    "        elif current % 2 == 0:\n",
    "            current = current / 2\n",
    "            current_length += 1\n",
    "            current_chain.append(current)\n",
    "        else:\n",
    "            current = current * 3 + 1\n",
    "            current_length += 1\n",
    "            current_chain.append(current)\n",
    "            \n",
    "    for i in range(1, len(current_chain) + 1):\n",
    "        chain_lengths[current_chain[-i]] = current_length - len(current_chain) + i \n",
    "\n",
    "    if current_length > max_length:\n",
    "        max_length = current_length\n",
    "        max_start = start_number\n",
    "\n",
    "    start_number += 1\n",
    "\n",
    "print(max_start)"
   ]
  },
  {
   "cell_type": "code",
   "execution_count": 9,
   "metadata": {},
   "outputs": [
    {
     "name": "stdout",
     "output_type": "stream",
     "text": [
      "Process finished --- 2.6479990482330322 seconds ---\n"
     ]
    }
   ],
   "source": [
    "print(\"Process finished --- %s seconds ---\" % (time.time() - start_time))"
   ]
  }
 ],
 "metadata": {
  "kernelspec": {
   "display_name": "Python 3",
   "language": "python",
   "name": "python3"
  },
  "language_info": {
   "codemirror_mode": {
    "name": "ipython",
    "version": 3
   },
   "file_extension": ".py",
   "mimetype": "text/x-python",
   "name": "python",
   "nbconvert_exporter": "python",
   "pygments_lexer": "ipython3",
   "version": "3.9.6"
  }
 },
 "nbformat": 4,
 "nbformat_minor": 2
}
