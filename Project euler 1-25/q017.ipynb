{
 "cells": [
  {
   "cell_type": "markdown",
   "metadata": {},
   "source": []
  },
  {
   "cell_type": "code",
   "execution_count": 1,
   "metadata": {},
   "outputs": [],
   "source": [
    "import time\n",
    "start_time = time.time()"
   ]
  },
  {
   "cell_type": "code",
   "execution_count": 4,
   "metadata": {},
   "outputs": [
    {
     "name": "stdout",
     "output_type": "stream",
     "text": [
      "21124\n"
     ]
    }
   ],
   "source": [
    "\n",
    "\n",
    "mapping = {0:0,1:len(\"one\"),2: len(\"two\"),3:len(\"three\"),4:len(\"four\"),5:len(\"five\"),6:len(\"six\"),7:len(\"seven\"),8:len(\"eight\"),9:len(\"nine\"),10:len(\"ten\"),11:len(\"eleven\"),12:len(\"twelve\"),13:len(\"thirteen\"),14:len(\"fourteen\"),15:len(\"fifteen\"),16:len(\"sixteen\"),17:len(\"seventeen\"),18:len(\"eighteen\"),19:len(\"nineteen\"),20:len(\"twenty\"),30:len(\"thirty\"),40:len(\"forty\"),50:len(\"fifty\"),60:len(\"sixty\"),70:len(\"seventy\"),80:len(\"eighty\"),90:len(\"ninety\"),100:len(\"hundred\"),1000:len(\"thousand\")}\n",
    "\n",
    "n = 1\n",
    "total = 0\n",
    "while(n <= 999):\n",
    "    current = n\n",
    "    if current < 21:\n",
    "        total += mapping[current]\n",
    "    elif current < 100:\n",
    "        currun = current % 10\n",
    "        currten = current - currun\n",
    "        total += mapping[currun]\n",
    "        total += mapping[currten]\n",
    "    \n",
    "    else:\n",
    "        if current % 100 == 0:\n",
    "            total += mapping[100]\n",
    "            total += mapping[current / 100]\n",
    "\n",
    "        elif current % 100 < 21:\n",
    "            currdos = current % 100\n",
    "            currhun = current - currdos\n",
    "            total += mapping[currdos]\n",
    "            total += mapping[100]\n",
    "            total += 3\n",
    "            total += mapping[currhun / 100]\n",
    "\n",
    "        else:\n",
    "            currun = current % 10\n",
    "            currten = (current % 100) - currun\n",
    "            currhun = current - currten - currun\n",
    "            total += mapping[currun]\n",
    "            total += mapping[currten]\n",
    "            total += 3\n",
    "            total += mapping[100]\n",
    "            total += mapping[currhun / 100]\n",
    "    n += 1\n",
    "\n",
    "\n",
    "\n",
    "total += 11\n",
    "print(total)"
   ]
  },
  {
   "cell_type": "markdown",
   "metadata": {},
   "source": [
    "# Code"
   ]
  },
  {
   "cell_type": "code",
   "execution_count": 3,
   "metadata": {},
   "outputs": [
    {
     "name": "stdout",
     "output_type": "stream",
     "text": [
      "Process finished --- 1.4478778839111328 seconds ---\n"
     ]
    }
   ],
   "source": [
    "print(\"Process finished --- %s seconds ---\" % (time.time() - start_time))"
   ]
  },
  {
   "cell_type": "code",
   "execution_count": null,
   "metadata": {},
   "outputs": [],
   "source": []
  }
 ],
 "metadata": {
  "kernelspec": {
   "display_name": "Python 3",
   "language": "python",
   "name": "python3"
  },
  "language_info": {
   "codemirror_mode": {
    "name": "ipython",
    "version": 3
   },
   "file_extension": ".py",
   "mimetype": "text/x-python",
   "name": "python",
   "nbconvert_exporter": "python",
   "pygments_lexer": "ipython3",
   "version": "3.9.6"
  }
 },
 "nbformat": 4,
 "nbformat_minor": 2
}
