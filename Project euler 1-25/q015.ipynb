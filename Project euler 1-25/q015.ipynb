{
 "cells": [
  {
   "cell_type": "markdown",
   "metadata": {},
   "source": []
  },
  {
   "cell_type": "code",
   "execution_count": 13,
   "metadata": {},
   "outputs": [],
   "source": [
    "import time\n",
    "start_time = time.time()"
   ]
  },
  {
   "cell_type": "markdown",
   "metadata": {},
   "source": [
    "Starting in the top left corner of a $2 \\times 2$ grid, and only being able to move to the right and down, there are exactly $6$ routes to the bottom right corner.\n"
   ]
  },
  {
   "cell_type": "markdown",
   "metadata": {},
   "source": [
    "# Code"
   ]
  },
  {
   "cell_type": "code",
   "execution_count": 6,
   "metadata": {},
   "outputs": [
    {
     "name": "stdout",
     "output_type": "stream",
     "text": [
      "137846528820\n"
     ]
    }
   ],
   "source": [
    " # Initialize the grid\n",
    "grid = [[0] * 21 for _ in range(21)]\n",
    "grid[20][20] = 1\n",
    "\n",
    "# Check if a cell can be filled\n",
    "def can_fill(x, y):\n",
    "    if grid[y][x] != 0:\n",
    "        return False\n",
    "    elif y == 20:\n",
    "        if x >= 20:\n",
    "            return False\n",
    "        elif grid[20][x + 1] != 0:\n",
    "            return True\n",
    "        else:\n",
    "            return False\n",
    "    elif x == 20:\n",
    "        if y >= 20:\n",
    "            return False\n",
    "        elif grid[y + 1][20] == 0:\n",
    "            return False\n",
    "        else:\n",
    "            return True\n",
    "    else:\n",
    "        if grid[y + 1][x] == 0 or grid[y][x + 1] == 0:\n",
    "            return False\n",
    "        else:\n",
    "            return True\n",
    "\n",
    "# Fill the grid\n",
    "while grid[0][0] == 0:\n",
    "    start_y = 0\n",
    "    start_x = 0\n",
    "    done = False\n",
    "    while not done:\n",
    "        if can_fill(start_x, start_y):\n",
    "            if start_x == 20:\n",
    "                grid[start_y][start_x] = grid[start_y + 1][start_x]\n",
    "            elif start_y == 20:\n",
    "                grid[start_y][start_x] = grid[start_y][start_x + 1]\n",
    "            else:\n",
    "                grid[start_y][start_x] = grid[start_y][start_x + 1] + grid[start_y + 1][start_x]\n",
    "            done = True\n",
    "        else:\n",
    "            start_x += 1\n",
    "            if start_x == 21:\n",
    "                start_y += 1\n",
    "                start_x = 0\n",
    "\n",
    "# Print the result\n",
    "print(grid[0][0])"
   ]
  },
  {
   "cell_type": "code",
   "execution_count": 14,
   "metadata": {},
   "outputs": [
    {
     "name": "stdout",
     "output_type": "stream",
     "text": [
      "Process finished --- 0.006841182708740234 seconds ---\n"
     ]
    }
   ],
   "source": [
    "print(\"Process finished --- %s seconds ---\" % (time.time() - start_time))"
   ]
  }
 ],
 "metadata": {
  "kernelspec": {
   "display_name": "Python 3",
   "language": "python",
   "name": "python3"
  },
  "language_info": {
   "codemirror_mode": {
    "name": "ipython",
    "version": 3
   },
   "file_extension": ".py",
   "mimetype": "text/x-python",
   "name": "python",
   "nbconvert_exporter": "python",
   "pygments_lexer": "ipython3",
   "version": "3.9.6"
  }
 },
 "nbformat": 4,
 "nbformat_minor": 2
}
