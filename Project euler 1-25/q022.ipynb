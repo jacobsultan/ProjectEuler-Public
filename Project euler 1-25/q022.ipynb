{
 "cells": [
  {
   "cell_type": "markdown",
   "metadata": {},
   "source": []
  },
  {
   "cell_type": "code",
   "execution_count": 13,
   "metadata": {},
   "outputs": [],
   "source": [
    "import time\n",
    "start_time = time.time()"
   ]
  },
  {
   "cell_type": "markdown",
   "metadata": {},
   "source": [
    "# Code"
   ]
  },
  {
   "cell_type": "code",
   "execution_count": null,
   "metadata": {},
   "outputs": [],
   "source": [
    "f = open(\"C:/Users/jsult/Desktop/projecteuler/textfiles/0022_names.txt\", \"r\")\n",
    "line = f.readline()\n",
    "\n",
    "c = line.split(\",\")\n",
    "\n",
    "for i in range(len(c)):\n",
    "    c[i] = c[i][1:-1]\n",
    "c.sort()\n",
    "\n",
    "tot = 0\n",
    "for i in range(len(c)):\n",
    "    name = c[i]\n",
    "    nametot = 0\n",
    "    for let in name:\n",
    "        nametot += ord(let) - 64\n",
    "    tot += nametot * (i + 1)\n",
    "\n",
    "print(tot)"
   ]
  },
  {
   "cell_type": "code",
   "execution_count": 14,
   "metadata": {},
   "outputs": [
    {
     "name": "stdout",
     "output_type": "stream",
     "text": [
      "Process finished --- 0.006841182708740234 seconds ---\n"
     ]
    }
   ],
   "source": [
    "print(\"Process finished --- %s seconds ---\" % (time.time() - start_time))"
   ]
  }
 ],
 "metadata": {
  "kernelspec": {
   "display_name": "Python 3",
   "language": "python",
   "name": "python3"
  },
  "language_info": {
   "codemirror_mode": {
    "name": "ipython",
    "version": 3
   },
   "file_extension": ".py",
   "mimetype": "text/x-python",
   "name": "python",
   "nbconvert_exporter": "python",
   "pygments_lexer": "ipython3",
   "version": "3.9.6"
  }
 },
 "nbformat": 4,
 "nbformat_minor": 2
}
