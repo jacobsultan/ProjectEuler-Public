{
 "cells": [
  {
   "cell_type": "markdown",
   "metadata": {},
   "source": []
  },
  {
   "cell_type": "code",
   "execution_count": 1,
   "metadata": {},
   "outputs": [],
   "source": [
    "import time\n",
    "start_time = time.time()"
   ]
  },
  {
   "cell_type": "markdown",
   "metadata": {},
   "source": [
    "# Code"
   ]
  },
  {
   "cell_type": "code",
   "execution_count": 2,
   "metadata": {},
   "outputs": [
    {
     "name": "stdout",
     "output_type": "stream",
     "text": [
      "1074\n"
     ]
    }
   ],
   "source": [
    "\n",
    "\n",
    "num_string = \"75 95 64 17 47 82 18 35 87 10 20 04 82 47 65 19 01 23 75 03 34 88 02 77 73 07 63 67 99 65 04 28 06 16 70 92 41 41 26 56 83 40 80 70 33 41 48 72 33 47 32 37 16 94 29 53 71 44 65 25 43 91 52 97 51 14 70 11 33 28 77 73 17 78 39 68 17 57 91 71 52 38 17 14 91 43 58 50 27 29 48 63 66 04 68 89 53 67 30 73 16 69 87 40 31 04 62 98 27 23 09 70 98 73 93 38 53 60 04 23\"\n",
    "\n",
    "\n",
    "array = []\n",
    "max_array = []\n",
    "num_array = num_string.split(\" \")\n",
    "con = 0\n",
    "for i in range(len(num_array)):\n",
    "    num_array[i] = int(num_array[i])\n",
    "\n",
    "for i in range(1,16):\n",
    "    c = num_array[con : con + i]\n",
    "    array.append(c)\n",
    "    max_array.append(max(c))\n",
    "    con += i\n",
    "\n",
    "for i in range(13,-1,-1):\n",
    "    max_array[i] = max_array[i] + max_array[i + 1]\n",
    "\n",
    "maxval = [0]\n",
    "retmap = {}\n",
    "for i in range(16):\n",
    "    retmap[i] = 0\n",
    "\n",
    "def route(x,y,total):\n",
    "    total += array[y][x]\n",
    "    if y == 14:\n",
    "        retmap[y] = retmap[y] + 1\n",
    "        if total > max(maxval):\n",
    "            maxval.append(total)\n",
    "    elif total + max_array[y + 1] < max(maxval):\n",
    "        retmap[y] = retmap[y] + 1\n",
    "        return None\n",
    "    else:\n",
    "        route(x + 1,y + 1,total)\n",
    "        route(x,y + 1, total)\n",
    "\n",
    "\n",
    "\n",
    "route(0,0,0)\n",
    "\n",
    "print(max(maxval))\n"
   ]
  },
  {
   "cell_type": "code",
   "execution_count": 3,
   "metadata": {},
   "outputs": [
    {
     "name": "stdout",
     "output_type": "stream",
     "text": [
      "Process finished --- 0.014698028564453125 seconds ---\n"
     ]
    }
   ],
   "source": [
    "print(\"Process finished --- %s seconds ---\" % (time.time() - start_time))"
   ]
  }
 ],
 "metadata": {
  "kernelspec": {
   "display_name": "Python 3",
   "language": "python",
   "name": "python3"
  },
  "language_info": {
   "codemirror_mode": {
    "name": "ipython",
    "version": 3
   },
   "file_extension": ".py",
   "mimetype": "text/x-python",
   "name": "python",
   "nbconvert_exporter": "python",
   "pygments_lexer": "ipython3",
   "version": "3.9.6"
  }
 },
 "nbformat": 4,
 "nbformat_minor": 2
}
