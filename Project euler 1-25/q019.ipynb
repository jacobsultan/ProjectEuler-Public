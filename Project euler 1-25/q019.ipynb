{
 "cells": [
  {
   "cell_type": "markdown",
   "metadata": {},
   "source": []
  },
  {
   "cell_type": "code",
   "execution_count": 3,
   "metadata": {},
   "outputs": [],
   "source": [
    "import time\n",
    "start_time = time.time()"
   ]
  },
  {
   "cell_type": "markdown",
   "metadata": {},
   "source": [
    "# Code"
   ]
  },
  {
   "cell_type": "code",
   "execution_count": 4,
   "metadata": {},
   "outputs": [
    {
     "name": "stdout",
     "output_type": "stream",
     "text": [
      "171\n"
     ]
    }
   ],
   "source": [
    "\n",
    "months = {1:31, 2:28, 3:31, 4:30, 5:31, 6:30, 7:31, 8:31, 9:30, 10:31, 11:30, 12:31}\n",
    "\n",
    "month = 1\n",
    "year = 1900\n",
    "day = 7\n",
    "\n",
    "while(year == 1900):\n",
    "    day += 7\n",
    "    if day > months[month]:\n",
    "        month += 1\n",
    "        day = day - months[month - 1]\n",
    "        if month == 13:\n",
    "            break\n",
    "\n",
    "\n",
    "day = 5\n",
    "month = 1\n",
    "year = 1901\n",
    "\n",
    "total = 0\n",
    "\n",
    "while(year < 2001):\n",
    "    if day == 1:\n",
    "        total += 1\n",
    "    day += 7\n",
    "    if day > months[month]:\n",
    "        month += 1\n",
    "        day = day - months[month - 1]\n",
    "        if month == 13:\n",
    "            month = 1\n",
    "            year += 1\n",
    "            if year % 4 == 0:\n",
    "                months[2] = 29\n",
    "            else:\n",
    "                months[2] = 28\n",
    "\n",
    "\n",
    "print(total)"
   ]
  },
  {
   "cell_type": "code",
   "execution_count": 5,
   "metadata": {},
   "outputs": [
    {
     "name": "stdout",
     "output_type": "stream",
     "text": [
      "Process finished --- 0.01941680908203125 seconds ---\n"
     ]
    }
   ],
   "source": [
    "print(\"Process finished --- %s seconds ---\" % (time.time() - start_time))"
   ]
  },
  {
   "cell_type": "code",
   "execution_count": null,
   "metadata": {},
   "outputs": [],
   "source": []
  }
 ],
 "metadata": {
  "kernelspec": {
   "display_name": "Python 3",
   "language": "python",
   "name": "python3"
  },
  "language_info": {
   "codemirror_mode": {
    "name": "ipython",
    "version": 3
   },
   "file_extension": ".py",
   "mimetype": "text/x-python",
   "name": "python",
   "nbconvert_exporter": "python",
   "pygments_lexer": "ipython3",
   "version": "3.9.6"
  }
 },
 "nbformat": 4,
 "nbformat_minor": 2
}
